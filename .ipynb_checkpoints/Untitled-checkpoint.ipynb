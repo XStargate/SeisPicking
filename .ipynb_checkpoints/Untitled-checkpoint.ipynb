{
 "cells": [
  {
   "cell_type": "code",
   "execution_count": 2,
   "metadata": {},
   "outputs": [
    {
     "name": "stdout",
     "output_type": "stream",
     "text": [
      "+ Loading waveform as image... \n"
     ]
    }
   ],
   "source": [
    "from examples.Mobil_L12.data_io import load_dataset\n",
    "\n",
    "from DToolbox import g_type_DCNN\n",
    "import numpy as np\n",
    "import torch\n",
    "from torch.autograd import Variable\n",
    "import torch.nn as nn\n",
    "import torch.optim as optim\n",
    "\n",
    "import pickle\n",
    "import pdb\n",
    "\n",
    "training_data, training_label, testing_data, testing_label = load_dataset(nn_type=g_type_DCNN, b_shuffle=True)\n",
    "# print(np.shape(training_data), np.shape(training_label))\n",
    "# print(np.shape(testing_data), np.shape(testing_label))"
   ]
  },
  {
   "cell_type": "code",
   "execution_count": 5,
   "metadata": {},
   "outputs": [],
   "source": [
    "from DToolbox.TorchCNNs import TCNN\n",
    "import torch\n",
    "\n",
    "import sys\n",
    "import numpy\n",
    "numpy.set_printoptions(threshold=sys.maxsize)\n",
    "torch.set_printoptions(edgeitems=200)\n",
    "\n",
    "# parameters\n",
    "input_dim = 200\n",
    "output_dim = 1\n",
    "input_length = len(training_data[0][0])\n",
    "output_length = len(training_label[0])\n",
    "lr = 1e-2\n",
    "input_component = 1\n",
    "# print(input_length, output_length)\n",
    "\n",
    "n_epoch = 2\n",
    "batch_size = 50\n",
    "n_data = len(training_label)\n",
    "n_batch = int(n_data / batch_size)\n",
    "\n",
    "net = TCNN()\n",
    "# define the loss function\n",
    "criterion = nn.CrossEntropyLoss()\n",
    "# define the optimizing method\n",
    "optimizer = optim.Adam(net.parameters(), lr=lr)\n",
    "\n",
    "for epoch in range(n_epoch):\n",
    "    running_loss = 0.0\n",
    "    for each_batch in range(n_batch):\n",
    "        idx = each_batch * batch_size\n",
    "        if idx + batch_size > n_data:\n",
    "            break\n",
    "\n",
    "        # get the training data\n",
    "        xs = np.asarray(training_data[idx: (idx+batch_size)])\n",
    "        ys = training_label[idx: (idx+batch_size)]\n",
    "        ys = [0 if ys[i][0] == 0 else 1 for i in range(len(ys))]            \n",
    "        ys = np.asarray(ys)\n",
    "        xs = torch.from_numpy(xs)\n",
    "        ys = torch.from_numpy(ys)\n",
    "        xs = xs.view(xs.size()[0], 1, xs.size()[1], xs.size()[2])\n",
    "        xs = xs.float()\n",
    "        ys = ys.long()\n",
    "            \n",
    "        # wrap them in Variable\n",
    "        inputs, labels = Variable(xs), Variable(ys)\n",
    "        # print(labels)\n",
    "\n",
    "        # zero the parameter gradients\n",
    "        optimizer.zero_grad()\n",
    "\n",
    "        # forward + backward + optimize\n",
    "        outputs = net(inputs)\n",
    "        # logp = nn.functional.log_softmax(outputs, dim=1)\n",
    "        # logpy = torch.gather(logp, 1, labels.view(-1,1))\n",
    "        # loss = -(logpy).mean()\n",
    "        loss = criterion(outputs, labels)\n",
    "        loss.backward()\n",
    "        optimizer.step()\n",
    "        \n",
    "        # print statistics\n",
    "        running_loss += loss.data\n",
    "    \n"
   ]
  },
  {
   "cell_type": "code",
   "execution_count": null,
   "metadata": {},
   "outputs": [],
   "source": []
  }
 ],
 "metadata": {
  "kernelspec": {
   "display_name": "Python 3.7.6 64-bit ('ml': conda)",
   "language": "python",
   "name": "python37664bitmlconda1820e0f98f8446e5a6cc78cf990fb06e"
  },
  "language_info": {
   "codemirror_mode": {
    "name": "ipython",
    "version": 3
   },
   "file_extension": ".py",
   "mimetype": "text/x-python",
   "name": "python",
   "nbconvert_exporter": "python",
   "pygments_lexer": "ipython3",
   "version": "3.7.6"
  }
 },
 "nbformat": 4,
 "nbformat_minor": 4
}
